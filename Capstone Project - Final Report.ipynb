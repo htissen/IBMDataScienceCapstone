{
 "cells": [
  {
   "cell_type": "markdown",
   "metadata": {
    "collapsed": true
   },
   "source": [
    "# Capstone Project - The Battle of the Neighborhoods\n",
    "# Japanese restaurant in Düsseldorf, Germany"
   ]
  },
  {
   "cell_type": "markdown",
   "metadata": {},
   "source": [
    "### by Heinrich Tissen, 21.03.2020"
   ]
  },
  {
   "cell_type": "markdown",
   "metadata": {},
   "source": [
    "### Applied Data Science Capstone by IBM/Coursera"
   ]
  },
  {
   "cell_type": "markdown",
   "metadata": {},
   "source": [
    "## Table of contents"
   ]
  },
  {
   "cell_type": "markdown",
   "metadata": {},
   "source": [
    "- Introduction\n",
    "- Data\n",
    "- Methodology\n",
    "- Analysis\n",
    "- Results and Discussion\n",
    "- Conclusion"
   ]
  },
  {
   "cell_type": "markdown",
   "metadata": {},
   "source": [
    "## 1. Introduction"
   ]
  },
  {
   "cell_type": "markdown",
   "metadata": {},
   "source": [
    "Düsseldorf is the seventh largest city in Germany with a growing population. It has a huge variety of restaurants for every taste and, thus, to start a restaurant business in this area is not an easy task.\n",
    "\n",
    "Our stakeholder is willing to open a japanese restaurant in the city of Düsseldorf. Since in Düsseldorf lives the largest japanese community in Continental-Europe a flourish japanese culture has been established. The idea is to jump on the bandwagon and open another restaurant offering excellent japanese cuisine.\n",
    "\n",
    "Choosing a location for business is a stressful task, since there are a lot of criteria that have to be satisfied in order to achieve the highest revenue. Here are some of them:\n",
    "- the density of other restaurants\n",
    "- the density of specifically japanese restaurants\n",
    "- population density around the location\n",
    "- solvency of the population around the location\n",
    "\n",
    "etc.\n",
    "\n",
    "The target audience for this data analysis are all entrepreneurs who want to open a new Japanese restaurants or new restaurants in general. But this analysis can be interesting for different other investors and market analysts.\n",
    "\n",
    "In this project, we will implement the basic analysis and try to find the most optimal borough to open a japanese restaurant according to those criteria. It's obvious, that there are many additional factors, such as distance from parking places or distance from the main streets, but this analysis can be done after choosing the borough, and thus will not be done within the scope of this project."
   ]
  },
  {
   "cell_type": "markdown",
   "metadata": {},
   "source": [
    "## 2. Data"
   ]
  },
  {
   "cell_type": "markdown",
   "metadata": {},
   "source": [
    "### 2.1 Data description"
   ]
  },
  {
   "cell_type": "markdown",
   "metadata": {},
   "source": [
    "Based on criteria listed above the following data will be utilized in our analysis:\n",
    "\n",
    "- the number of restaurants within the certain radius of each borough (Foresquare API)\n",
    "- the net income per person in each borough. It is important to consider the solvency of population. Source: Statistical report of Düsseldorf from 2015 (https://www.duesseldorf.de/fileadmin/Amt12/statistik/stadtforschung/download/statistisches_jahrbuch_2015.pdf)\n",
    "- the population and the population density of the borough. Source: Statistical report of Düsseldorf from 2015 (https://www.duesseldorf.de/fileadmin/Amt12/statistik/stadtforschung/download/statistisches_jahrbuch_2015.pdf)\n",
    "- the coordinates of the borough. Source: Open street map (https://www.openstreetmap.org/#map=12/51.2403/6.8184)"
   ]
  },
  {
   "cell_type": "markdown",
   "metadata": {},
   "source": [
    "### 2.2 Data Preparation"
   ]
  },
  {
   "cell_type": "markdown",
   "metadata": {},
   "source": [
    "Importing libraries"
   ]
  },
  {
   "cell_type": "code",
   "execution_count": 1,
   "metadata": {},
   "outputs": [
    {
     "name": "stdout",
     "output_type": "stream",
     "text": [
      "Solving environment: done\n",
      "\n",
      "## Package Plan ##\n",
      "\n",
      "  environment location: /opt/conda/envs/Python36\n",
      "\n",
      "  added / updated specs: \n",
      "    - folium=0.5.0\n",
      "\n",
      "\n",
      "The following packages will be downloaded:\n",
      "\n",
      "    package                    |            build\n",
      "    ---------------------------|-----------------\n",
      "    python_abi-3.6             |          1_cp36m           4 KB  conda-forge\n",
      "    ca-certificates-2019.11.28 |       hecc5488_0         145 KB  conda-forge\n",
      "    certifi-2019.11.28         |   py36h9f0ad1d_1         149 KB  conda-forge\n",
      "    folium-0.5.0               |             py_0          45 KB  conda-forge\n",
      "    vincent-0.4.4              |             py_1          28 KB  conda-forge\n",
      "    altair-4.0.1               |             py_0         575 KB  conda-forge\n",
      "    openssl-1.1.1e             |       h516909a_0         2.1 MB  conda-forge\n",
      "    branca-0.4.0               |             py_0          26 KB  conda-forge\n",
      "    ------------------------------------------------------------\n",
      "                                           Total:         3.1 MB\n",
      "\n",
      "The following NEW packages will be INSTALLED:\n",
      "\n",
      "    altair:          4.0.1-py_0        conda-forge\n",
      "    branca:          0.4.0-py_0        conda-forge\n",
      "    folium:          0.5.0-py_0        conda-forge\n",
      "    python_abi:      3.6-1_cp36m       conda-forge\n",
      "    vincent:         0.4.4-py_1        conda-forge\n",
      "\n",
      "The following packages will be UPDATED:\n",
      "\n",
      "    ca-certificates: 2019.11.27-0                  --> 2019.11.28-hecc5488_0     conda-forge\n",
      "    certifi:         2019.11.28-py36_0             --> 2019.11.28-py36h9f0ad1d_1 conda-forge\n",
      "    openssl:         1.1.1d-h7b6447c_3             --> 1.1.1e-h516909a_0         conda-forge\n",
      "\n",
      "\n",
      "Downloading and Extracting Packages\n",
      "python_abi-3.6       | 4 KB      | ##################################### | 100% \n",
      "ca-certificates-2019 | 145 KB    | ##################################### | 100% \n",
      "certifi-2019.11.28   | 149 KB    | ##################################### | 100% \n",
      "folium-0.5.0         | 45 KB     | ##################################### | 100% \n",
      "vincent-0.4.4        | 28 KB     | ##################################### | 100% \n",
      "altair-4.0.1         | 575 KB    | ##################################### | 100% \n",
      "openssl-1.1.1e       | 2.1 MB    | ##################################### | 100% \n",
      "branca-0.4.0         | 26 KB     | ##################################### | 100% \n",
      "Preparing transaction: done\n",
      "Verifying transaction: done\n",
      "Executing transaction: done\n",
      "Libraries imported.\n"
     ]
    }
   ],
   "source": [
    "import numpy as np # library to handle data in a vectorized manner\n",
    "import pandas as pd # library for data analsysis\n",
    "pd.set_option('display.max_columns', None)\n",
    "pd.set_option('display.max_rows', None)\n",
    "\n",
    "import json # library to handle JSON files\n",
    "\n",
    "#!conda install -c conda-forge geopy --yes # uncomment this line if you haven't completed the Foursquare API lab\n",
    "from geopy.geocoders import Nominatim # convert an address into latitude and longitude values\n",
    "\n",
    "import requests # library to handle requests\n",
    "from pandas.io.json import json_normalize # tranform JSON file into a pandas dataframe\n",
    "\n",
    "# Matplotlib and associated plotting modules\n",
    "import matplotlib.cm as cm\n",
    "import matplotlib.colors as colors\n",
    "\n",
    "# import k-means from clustering stage\n",
    "from sklearn.cluster import KMeans\n",
    "\n",
    "!conda install -c conda-forge folium=0.5.0 --yes # uncomment this line if you haven't completed the Foursquare API lab\n",
    "import folium # map rendering library\n",
    "\n",
    "print('Libraries imported.')"
   ]
  },
  {
   "cell_type": "markdown",
   "metadata": {},
   "source": [
    "Load the list of boroughs of Düsseldorf with information about population based on the statistical report from 2015 into a dataframe. Coordinates are taken from Openstreetmap."
   ]
  },
  {
   "cell_type": "code",
   "execution_count": 2,
   "metadata": {},
   "outputs": [
    {
     "data": {
      "text/html": [
       "<div>\n",
       "<style scoped>\n",
       "    .dataframe tbody tr th:only-of-type {\n",
       "        vertical-align: middle;\n",
       "    }\n",
       "\n",
       "    .dataframe tbody tr th {\n",
       "        vertical-align: top;\n",
       "    }\n",
       "\n",
       "    .dataframe thead th {\n",
       "        text-align: right;\n",
       "    }\n",
       "</style>\n",
       "<table border=\"1\" class=\"dataframe\">\n",
       "  <thead>\n",
       "    <tr style=\"text-align: right;\">\n",
       "      <th></th>\n",
       "      <th>Borough</th>\n",
       "      <th>Postcode</th>\n",
       "      <th>Neighbourhood</th>\n",
       "      <th>Latitude</th>\n",
       "      <th>Longitude</th>\n",
       "      <th>Population</th>\n",
       "      <th>Population Density</th>\n",
       "    </tr>\n",
       "  </thead>\n",
       "  <tbody>\n",
       "    <tr>\n",
       "      <th>0</th>\n",
       "      <td>District 1</td>\n",
       "      <td>40219</td>\n",
       "      <td>Altstadt</td>\n",
       "      <td>51.22591</td>\n",
       "      <td>6.77357</td>\n",
       "      <td>78822</td>\n",
       "      <td>6975</td>\n",
       "    </tr>\n",
       "    <tr>\n",
       "      <th>1</th>\n",
       "      <td>District 2</td>\n",
       "      <td>40233</td>\n",
       "      <td>Flingern Süd</td>\n",
       "      <td>51.22101</td>\n",
       "      <td>6.81006</td>\n",
       "      <td>58712</td>\n",
       "      <td>8121</td>\n",
       "    </tr>\n",
       "    <tr>\n",
       "      <th>2</th>\n",
       "      <td>District 3</td>\n",
       "      <td>40215</td>\n",
       "      <td>Friedrichstadt</td>\n",
       "      <td>51.21212</td>\n",
       "      <td>6.78915</td>\n",
       "      <td>113914</td>\n",
       "      <td>4593</td>\n",
       "    </tr>\n",
       "    <tr>\n",
       "      <th>3</th>\n",
       "      <td>District 4</td>\n",
       "      <td>40545</td>\n",
       "      <td>Oberkassel</td>\n",
       "      <td>51.22958</td>\n",
       "      <td>6.75545</td>\n",
       "      <td>40666</td>\n",
       "      <td>3210</td>\n",
       "    </tr>\n",
       "    <tr>\n",
       "      <th>4</th>\n",
       "      <td>District 5</td>\n",
       "      <td>40474</td>\n",
       "      <td>Stockum</td>\n",
       "      <td>51.26922</td>\n",
       "      <td>6.74076</td>\n",
       "      <td>32841</td>\n",
       "      <td>644</td>\n",
       "    </tr>\n",
       "  </tbody>\n",
       "</table>\n",
       "</div>"
      ],
      "text/plain": [
       "      Borough  Postcode   Neighbourhood  Latitude  Longitude  Population  \\\n",
       "0  District 1     40219        Altstadt  51.22591    6.77357       78822   \n",
       "1  District 2     40233    Flingern Süd  51.22101    6.81006       58712   \n",
       "2  District 3     40215  Friedrichstadt  51.21212    6.78915      113914   \n",
       "3  District 4     40545      Oberkassel  51.22958    6.75545       40666   \n",
       "4  District 5     40474         Stockum  51.26922    6.74076       32841   \n",
       "\n",
       "   Population Density  \n",
       "0                6975  \n",
       "1                8121  \n",
       "2                4593  \n",
       "3                3210  \n",
       "4                 644  "
      ]
     },
     "execution_count": 2,
     "metadata": {},
     "output_type": "execute_result"
    }
   ],
   "source": [
    "import types\n",
    "import pandas as pd\n",
    "from botocore.client import Config\n",
    "import ibm_boto3\n",
    "\n",
    "def __iter__(self): return 0\n",
    "\n",
    "    ibm_auth_endpoint=\"https://iam.eu-de.bluemix.net/oidc/token\",\n",
    "    config=Config(signature_version='oauth'),\n",
    "    endpoint_url='https://s3.eu-geo.objectstorage.service.networklayer.com')\n",
    "\n",
    "body = client_7581186010a74e46befa007e28e095a3.get_object(Bucket='ibmdatasciencecapstoneproject-donotdelete-pr-iil3e6bazy2nq2',Key='Duesseldorf_district.xlsx')['Body']\n",
    "# add missing __iter__ method, so pandas accepts body as file-like object\n",
    "if not hasattr(body, \"__iter__\"): body.__iter__ = types.MethodType( __iter__, body )\n",
    "\n",
    "df = pd.read_excel(body)\n",
    "df.head()"
   ]
  },
  {
   "cell_type": "code",
   "execution_count": 3,
   "metadata": {},
   "outputs": [
    {
     "name": "stdout",
     "output_type": "stream",
     "text": [
      "(10, 7)\n"
     ]
    }
   ],
   "source": [
    "print(df.shape)"
   ]
  },
  {
   "cell_type": "markdown",
   "metadata": {},
   "source": [
    "Use geopy library to get the latitude and longitude of Düsseldorf."
   ]
  },
  {
   "cell_type": "code",
   "execution_count": 4,
   "metadata": {},
   "outputs": [
    {
     "name": "stdout",
     "output_type": "stream",
     "text": [
      "The geograpical coordinate of Düsseldorf are 51.2254018, 6.7763137.\n"
     ]
    }
   ],
   "source": [
    "address = 'Düsseldorf'\n",
    "\n",
    "geolocator = Nominatim(user_agent=\"ny_explorer\")\n",
    "location = geolocator.geocode(address)\n",
    "latitude = location.latitude\n",
    "longitude = location.longitude\n",
    "print('The geograpical coordinate of Düsseldorf are {}, {}.'.format(latitude, longitude))"
   ]
  },
  {
   "cell_type": "markdown",
   "metadata": {},
   "source": [
    "Define Foursquare Credentials and Version"
   ]
  },
  {
   "cell_type": "code",
   "execution_count": 5,
   "metadata": {},
   "outputs": [
    {
     "name": "stdout",
     "output_type": "stream",
     "text": [
      "Your credentails:\n",
      "CLIENT_ID: FQME4PSB4FLMRXE0R1L5SO3E23WJGQJXA0CBP4JTNZ3EAWCY\n",
      "CLIENT_SECRET:FKAZTL1J44UBA1XAMOOCLAZRDSJG31UKL1324SDQGHSNFR2F\n"
     ]
    }
   ],
   "source": [
    "CLIENT_ID = 'FQME4PSB4FLMRXE0R1L5SO3E23WJGQJXA0CBP4JTNZ3EAWCY' # your Foursquare ID\n",
    "CLIENT_SECRET = 'FKAZTL1J44UBA1XAMOOCLAZRDSJG31UKL1324SDQGHSNFR2F' # your Foursquare Secret\n",
    "VERSION = '20200320' # Foursquare API version\n",
    "\n",
    "print('Your credentails:')\n",
    "print('CLIENT_ID: ' + CLIENT_ID)\n",
    "print('CLIENT_SECRET:' + CLIENT_SECRET)"
   ]
  },
  {
   "cell_type": "markdown",
   "metadata": {},
   "source": [
    "Create a function to explore the venues for all boroughs in Düsseldorf"
   ]
  },
  {
   "cell_type": "code",
   "execution_count": 6,
   "metadata": {},
   "outputs": [],
   "source": [
    "def getNearbyVenues(names, latitudes, longitudes, radius=500):\n",
    "    \n",
    "    venues_list=[]\n",
    "    for name, lat, lng in zip(names, latitudes, longitudes):\n",
    "        print(name)\n",
    "            \n",
    "        # create the API request URL\n",
    "        url = 'https://api.foursquare.com/v2/venues/explore?&client_id={}&client_secret={}&v={}&ll={},{}&radius={}&limit={}'.format(\n",
    "            CLIENT_ID, \n",
    "            CLIENT_SECRET, \n",
    "            VERSION, \n",
    "            lat, \n",
    "            lng, \n",
    "            radius, \n",
    "            LIMIT)\n",
    "            \n",
    "        # make the GET request\n",
    "        results = requests.get(url).json()[\"response\"]['groups'][0]['items']\n",
    "        \n",
    "        # return only relevant information for each nearby venue\n",
    "        venues_list.append([(\n",
    "            name, \n",
    "            lat, \n",
    "            lng, \n",
    "            v['venue']['name'], \n",
    "            v['venue']['location']['lat'], \n",
    "            v['venue']['location']['lng'],  \n",
    "            v['venue']['categories'][0]['name']) for v in results])\n",
    "\n",
    "    nearby_venues = pd.DataFrame([item for venue_list in venues_list for item in venue_list])\n",
    "    nearby_venues.columns = ['Borough', \n",
    "                  'Borough Latitude', \n",
    "                  'Borough Longitude', \n",
    "                  'Venue', \n",
    "                  'Venue Latitude', \n",
    "                  'Venue Longitude', \n",
    "                  'Venue Category']\n",
    "    \n",
    "    return(nearby_venues)"
   ]
  },
  {
   "cell_type": "code",
   "execution_count": 7,
   "metadata": {},
   "outputs": [
    {
     "name": "stdout",
     "output_type": "stream",
     "text": [
      "District 1\n",
      "District 2\n",
      "District 3\n",
      "District 4\n",
      "District 5\n",
      "District 6\n",
      "District 7\n",
      "District 8\n",
      "District 9\n",
      "District 10\n"
     ]
    }
   ],
   "source": [
    "LIMIT = 100\n",
    "radius = 1000\n",
    "duesseldorf_venues = getNearbyVenues(names=df['Borough'],\n",
    "                                   latitudes=df['Latitude'],\n",
    "                                   longitudes=df['Longitude'],\n",
    "                                   radius = radius\n",
    "                                  )"
   ]
  },
  {
   "cell_type": "code",
   "execution_count": 8,
   "metadata": {},
   "outputs": [
    {
     "name": "stdout",
     "output_type": "stream",
     "text": [
      "(485, 7)\n"
     ]
    },
    {
     "data": {
      "text/html": [
       "<div>\n",
       "<style scoped>\n",
       "    .dataframe tbody tr th:only-of-type {\n",
       "        vertical-align: middle;\n",
       "    }\n",
       "\n",
       "    .dataframe tbody tr th {\n",
       "        vertical-align: top;\n",
       "    }\n",
       "\n",
       "    .dataframe thead th {\n",
       "        text-align: right;\n",
       "    }\n",
       "</style>\n",
       "<table border=\"1\" class=\"dataframe\">\n",
       "  <thead>\n",
       "    <tr style=\"text-align: right;\">\n",
       "      <th></th>\n",
       "      <th>Borough</th>\n",
       "      <th>Borough Latitude</th>\n",
       "      <th>Borough Longitude</th>\n",
       "      <th>Venue</th>\n",
       "      <th>Venue Latitude</th>\n",
       "      <th>Venue Longitude</th>\n",
       "      <th>Venue Category</th>\n",
       "    </tr>\n",
       "  </thead>\n",
       "  <tbody>\n",
       "    <tr>\n",
       "      <th>0</th>\n",
       "      <td>District 1</td>\n",
       "      <td>51.22591</td>\n",
       "      <td>6.77357</td>\n",
       "      <td>Casita Mexicana</td>\n",
       "      <td>51.226676</td>\n",
       "      <td>6.775478</td>\n",
       "      <td>Mexican Restaurant</td>\n",
       "    </tr>\n",
       "    <tr>\n",
       "      <th>1</th>\n",
       "      <td>District 1</td>\n",
       "      <td>51.22591</td>\n",
       "      <td>6.77357</td>\n",
       "      <td>Rösterei VIER</td>\n",
       "      <td>51.225940</td>\n",
       "      <td>6.772294</td>\n",
       "      <td>Coffee Shop</td>\n",
       "    </tr>\n",
       "    <tr>\n",
       "      <th>2</th>\n",
       "      <td>District 1</td>\n",
       "      <td>51.22591</td>\n",
       "      <td>6.77357</td>\n",
       "      <td>Elephant Bar</td>\n",
       "      <td>51.226851</td>\n",
       "      <td>6.772636</td>\n",
       "      <td>Cocktail Bar</td>\n",
       "    </tr>\n",
       "    <tr>\n",
       "      <th>3</th>\n",
       "      <td>District 1</td>\n",
       "      <td>51.22591</td>\n",
       "      <td>6.77357</td>\n",
       "      <td>Rösterei VIER</td>\n",
       "      <td>51.224536</td>\n",
       "      <td>6.773703</td>\n",
       "      <td>Coffee Shop</td>\n",
       "    </tr>\n",
       "    <tr>\n",
       "      <th>4</th>\n",
       "      <td>District 1</td>\n",
       "      <td>51.22591</td>\n",
       "      <td>6.77357</td>\n",
       "      <td>Marktplatz</td>\n",
       "      <td>51.225802</td>\n",
       "      <td>6.772154</td>\n",
       "      <td>Plaza</td>\n",
       "    </tr>\n",
       "  </tbody>\n",
       "</table>\n",
       "</div>"
      ],
      "text/plain": [
       "      Borough  Borough Latitude  Borough Longitude            Venue  \\\n",
       "0  District 1          51.22591            6.77357  Casita Mexicana   \n",
       "1  District 1          51.22591            6.77357    Rösterei VIER   \n",
       "2  District 1          51.22591            6.77357     Elephant Bar   \n",
       "3  District 1          51.22591            6.77357    Rösterei VIER   \n",
       "4  District 1          51.22591            6.77357       Marktplatz   \n",
       "\n",
       "   Venue Latitude  Venue Longitude      Venue Category  \n",
       "0       51.226676         6.775478  Mexican Restaurant  \n",
       "1       51.225940         6.772294         Coffee Shop  \n",
       "2       51.226851         6.772636        Cocktail Bar  \n",
       "3       51.224536         6.773703         Coffee Shop  \n",
       "4       51.225802         6.772154               Plaza  "
      ]
     },
     "execution_count": 8,
     "metadata": {},
     "output_type": "execute_result"
    }
   ],
   "source": [
    "print(duesseldorf_venues.shape)\n",
    "duesseldorf_venues.head()"
   ]
  },
  {
   "cell_type": "markdown",
   "metadata": {},
   "source": [
    "Group the number of total venues by borough."
   ]
  },
  {
   "cell_type": "code",
   "execution_count": 9,
   "metadata": {},
   "outputs": [
    {
     "data": {
      "text/html": [
       "<div>\n",
       "<style scoped>\n",
       "    .dataframe tbody tr th:only-of-type {\n",
       "        vertical-align: middle;\n",
       "    }\n",
       "\n",
       "    .dataframe tbody tr th {\n",
       "        vertical-align: top;\n",
       "    }\n",
       "\n",
       "    .dataframe thead th {\n",
       "        text-align: right;\n",
       "    }\n",
       "</style>\n",
       "<table border=\"1\" class=\"dataframe\">\n",
       "  <thead>\n",
       "    <tr style=\"text-align: right;\">\n",
       "      <th></th>\n",
       "      <th>Borough Latitude</th>\n",
       "      <th>Borough Longitude</th>\n",
       "      <th>Venue</th>\n",
       "      <th>Venue Latitude</th>\n",
       "      <th>Venue Longitude</th>\n",
       "      <th>Venue Category</th>\n",
       "    </tr>\n",
       "    <tr>\n",
       "      <th>Borough</th>\n",
       "      <th></th>\n",
       "      <th></th>\n",
       "      <th></th>\n",
       "      <th></th>\n",
       "      <th></th>\n",
       "      <th></th>\n",
       "    </tr>\n",
       "  </thead>\n",
       "  <tbody>\n",
       "    <tr>\n",
       "      <th>District 1</th>\n",
       "      <td>100</td>\n",
       "      <td>100</td>\n",
       "      <td>100</td>\n",
       "      <td>100</td>\n",
       "      <td>100</td>\n",
       "      <td>100</td>\n",
       "    </tr>\n",
       "    <tr>\n",
       "      <th>District 10</th>\n",
       "      <td>5</td>\n",
       "      <td>5</td>\n",
       "      <td>5</td>\n",
       "      <td>5</td>\n",
       "      <td>5</td>\n",
       "      <td>5</td>\n",
       "    </tr>\n",
       "    <tr>\n",
       "      <th>District 2</th>\n",
       "      <td>88</td>\n",
       "      <td>88</td>\n",
       "      <td>88</td>\n",
       "      <td>88</td>\n",
       "      <td>88</td>\n",
       "      <td>88</td>\n",
       "    </tr>\n",
       "    <tr>\n",
       "      <th>District 3</th>\n",
       "      <td>100</td>\n",
       "      <td>100</td>\n",
       "      <td>100</td>\n",
       "      <td>100</td>\n",
       "      <td>100</td>\n",
       "      <td>100</td>\n",
       "    </tr>\n",
       "    <tr>\n",
       "      <th>District 4</th>\n",
       "      <td>53</td>\n",
       "      <td>53</td>\n",
       "      <td>53</td>\n",
       "      <td>53</td>\n",
       "      <td>53</td>\n",
       "      <td>53</td>\n",
       "    </tr>\n",
       "    <tr>\n",
       "      <th>District 5</th>\n",
       "      <td>16</td>\n",
       "      <td>16</td>\n",
       "      <td>16</td>\n",
       "      <td>16</td>\n",
       "      <td>16</td>\n",
       "      <td>16</td>\n",
       "    </tr>\n",
       "    <tr>\n",
       "      <th>District 6</th>\n",
       "      <td>21</td>\n",
       "      <td>21</td>\n",
       "      <td>21</td>\n",
       "      <td>21</td>\n",
       "      <td>21</td>\n",
       "      <td>21</td>\n",
       "    </tr>\n",
       "    <tr>\n",
       "      <th>District 7</th>\n",
       "      <td>10</td>\n",
       "      <td>10</td>\n",
       "      <td>10</td>\n",
       "      <td>10</td>\n",
       "      <td>10</td>\n",
       "      <td>10</td>\n",
       "    </tr>\n",
       "    <tr>\n",
       "      <th>District 8</th>\n",
       "      <td>70</td>\n",
       "      <td>70</td>\n",
       "      <td>70</td>\n",
       "      <td>70</td>\n",
       "      <td>70</td>\n",
       "      <td>70</td>\n",
       "    </tr>\n",
       "    <tr>\n",
       "      <th>District 9</th>\n",
       "      <td>22</td>\n",
       "      <td>22</td>\n",
       "      <td>22</td>\n",
       "      <td>22</td>\n",
       "      <td>22</td>\n",
       "      <td>22</td>\n",
       "    </tr>\n",
       "  </tbody>\n",
       "</table>\n",
       "</div>"
      ],
      "text/plain": [
       "             Borough Latitude  Borough Longitude  Venue  Venue Latitude  \\\n",
       "Borough                                                                   \n",
       "District 1                100                100    100             100   \n",
       "District 10                 5                  5      5               5   \n",
       "District 2                 88                 88     88              88   \n",
       "District 3                100                100    100             100   \n",
       "District 4                 53                 53     53              53   \n",
       "District 5                 16                 16     16              16   \n",
       "District 6                 21                 21     21              21   \n",
       "District 7                 10                 10     10              10   \n",
       "District 8                 70                 70     70              70   \n",
       "District 9                 22                 22     22              22   \n",
       "\n",
       "             Venue Longitude  Venue Category  \n",
       "Borough                                       \n",
       "District 1               100             100  \n",
       "District 10                5               5  \n",
       "District 2                88              88  \n",
       "District 3               100             100  \n",
       "District 4                53              53  \n",
       "District 5                16              16  \n",
       "District 6                21              21  \n",
       "District 7                10              10  \n",
       "District 8                70              70  \n",
       "District 9                22              22  "
      ]
     },
     "execution_count": 9,
     "metadata": {},
     "output_type": "execute_result"
    }
   ],
   "source": [
    "duesseldorf_venues.groupby('Borough').count()"
   ]
  },
  {
   "cell_type": "markdown",
   "metadata": {},
   "source": [
    "Filter venues by restaurants."
   ]
  },
  {
   "cell_type": "code",
   "execution_count": 10,
   "metadata": {},
   "outputs": [
    {
     "data": {
      "text/html": [
       "<div>\n",
       "<style scoped>\n",
       "    .dataframe tbody tr th:only-of-type {\n",
       "        vertical-align: middle;\n",
       "    }\n",
       "\n",
       "    .dataframe tbody tr th {\n",
       "        vertical-align: top;\n",
       "    }\n",
       "\n",
       "    .dataframe thead th {\n",
       "        text-align: right;\n",
       "    }\n",
       "</style>\n",
       "<table border=\"1\" class=\"dataframe\">\n",
       "  <thead>\n",
       "    <tr style=\"text-align: right;\">\n",
       "      <th></th>\n",
       "      <th>Number of restaurants</th>\n",
       "    </tr>\n",
       "    <tr>\n",
       "      <th>Borough</th>\n",
       "      <th></th>\n",
       "    </tr>\n",
       "  </thead>\n",
       "  <tbody>\n",
       "    <tr>\n",
       "      <th>District 1</th>\n",
       "      <td>17</td>\n",
       "    </tr>\n",
       "    <tr>\n",
       "      <th>District 2</th>\n",
       "      <td>27</td>\n",
       "    </tr>\n",
       "    <tr>\n",
       "      <th>District 3</th>\n",
       "      <td>31</td>\n",
       "    </tr>\n",
       "    <tr>\n",
       "      <th>District 4</th>\n",
       "      <td>13</td>\n",
       "    </tr>\n",
       "    <tr>\n",
       "      <th>District 5</th>\n",
       "      <td>2</td>\n",
       "    </tr>\n",
       "  </tbody>\n",
       "</table>\n",
       "</div>"
      ],
      "text/plain": [
       "            Number of restaurants\n",
       "Borough                          \n",
       "District 1                     17\n",
       "District 2                     27\n",
       "District 3                     31\n",
       "District 4                     13\n",
       "District 5                      2"
      ]
     },
     "execution_count": 10,
     "metadata": {},
     "output_type": "execute_result"
    }
   ],
   "source": [
    "duesseldorf_restaurant = duesseldorf_venues[(duesseldorf_venues['Venue Category'].str.contains('Restaurant', regex=False))].groupby(['Borough']).count()\n",
    "duesseldorf_restaurant.drop(['Borough Latitude', 'Borough Longitude', 'Venue Longitude', 'Venue', 'Venue Latitude'], axis = 1, inplace = True)\n",
    "duesseldorf_restaurant.rename(columns = {'Venue Category':'Number of restaurants'}, inplace=True)\n",
    "duesseldorf_restaurant.head()"
   ]
  },
  {
   "cell_type": "markdown",
   "metadata": {},
   "source": [
    "Filter venues by Japanese restaurants."
   ]
  },
  {
   "cell_type": "code",
   "execution_count": 11,
   "metadata": {},
   "outputs": [
    {
     "data": {
      "text/html": [
       "<div>\n",
       "<style scoped>\n",
       "    .dataframe tbody tr th:only-of-type {\n",
       "        vertical-align: middle;\n",
       "    }\n",
       "\n",
       "    .dataframe tbody tr th {\n",
       "        vertical-align: top;\n",
       "    }\n",
       "\n",
       "    .dataframe thead th {\n",
       "        text-align: right;\n",
       "    }\n",
       "</style>\n",
       "<table border=\"1\" class=\"dataframe\">\n",
       "  <thead>\n",
       "    <tr style=\"text-align: right;\">\n",
       "      <th></th>\n",
       "      <th>Number of Japanese restaurants</th>\n",
       "    </tr>\n",
       "    <tr>\n",
       "      <th>Borough</th>\n",
       "      <th></th>\n",
       "    </tr>\n",
       "  </thead>\n",
       "  <tbody>\n",
       "    <tr>\n",
       "      <th>District 1</th>\n",
       "      <td>1</td>\n",
       "    </tr>\n",
       "    <tr>\n",
       "      <th>District 3</th>\n",
       "      <td>1</td>\n",
       "    </tr>\n",
       "  </tbody>\n",
       "</table>\n",
       "</div>"
      ],
      "text/plain": [
       "            Number of Japanese restaurants\n",
       "Borough                                   \n",
       "District 1                               1\n",
       "District 3                               1"
      ]
     },
     "execution_count": 11,
     "metadata": {},
     "output_type": "execute_result"
    }
   ],
   "source": [
    "duesseldorf_jap = duesseldorf_venues[(duesseldorf_venues['Venue Category'].str.contains('Japanese Restaurant', regex=False)) | \n",
    "                                    (duesseldorf_venues['Venue Category'].str.contains('Ramen', regex=False)) |\n",
    "                                    (duesseldorf_venues['Venue Category'].str.contains('Sushi', regex=False)) ].groupby(['Borough']).count()\n",
    "duesseldorf_jap.drop(['Borough Latitude', 'Borough Longitude', 'Venue Longitude', 'Venue', 'Venue Latitude'], axis = 1, inplace = True)\n",
    "duesseldorf_jap.rename(columns = {'Venue Category':'Number of Japanese restaurants'}, inplace=True)\n",
    "duesseldorf_jap.head()"
   ]
  },
  {
   "cell_type": "markdown",
   "metadata": {},
   "source": [
    "Merge all dataframes."
   ]
  },
  {
   "cell_type": "code",
   "execution_count": 12,
   "metadata": {},
   "outputs": [],
   "source": [
    "df = df.join(duesseldorf_restaurant, on='Borough')\n",
    "df = df.join(duesseldorf_jap, on='Borough')"
   ]
  },
  {
   "cell_type": "code",
   "execution_count": 13,
   "metadata": {},
   "outputs": [
    {
     "data": {
      "text/html": [
       "<div>\n",
       "<style scoped>\n",
       "    .dataframe tbody tr th:only-of-type {\n",
       "        vertical-align: middle;\n",
       "    }\n",
       "\n",
       "    .dataframe tbody tr th {\n",
       "        vertical-align: top;\n",
       "    }\n",
       "\n",
       "    .dataframe thead th {\n",
       "        text-align: right;\n",
       "    }\n",
       "</style>\n",
       "<table border=\"1\" class=\"dataframe\">\n",
       "  <thead>\n",
       "    <tr style=\"text-align: right;\">\n",
       "      <th></th>\n",
       "      <th>Borough</th>\n",
       "      <th>Postcode</th>\n",
       "      <th>Neighbourhood</th>\n",
       "      <th>Latitude</th>\n",
       "      <th>Longitude</th>\n",
       "      <th>Population</th>\n",
       "      <th>Population Density</th>\n",
       "      <th>Number of restaurants</th>\n",
       "      <th>Number of Japanese restaurants</th>\n",
       "    </tr>\n",
       "  </thead>\n",
       "  <tbody>\n",
       "    <tr>\n",
       "      <th>0</th>\n",
       "      <td>District 1</td>\n",
       "      <td>40219</td>\n",
       "      <td>Altstadt</td>\n",
       "      <td>51.22591</td>\n",
       "      <td>6.77357</td>\n",
       "      <td>78822</td>\n",
       "      <td>6975</td>\n",
       "      <td>17.0</td>\n",
       "      <td>1.0</td>\n",
       "    </tr>\n",
       "    <tr>\n",
       "      <th>1</th>\n",
       "      <td>District 2</td>\n",
       "      <td>40233</td>\n",
       "      <td>Flingern Süd</td>\n",
       "      <td>51.22101</td>\n",
       "      <td>6.81006</td>\n",
       "      <td>58712</td>\n",
       "      <td>8121</td>\n",
       "      <td>27.0</td>\n",
       "      <td>NaN</td>\n",
       "    </tr>\n",
       "    <tr>\n",
       "      <th>2</th>\n",
       "      <td>District 3</td>\n",
       "      <td>40215</td>\n",
       "      <td>Friedrichstadt</td>\n",
       "      <td>51.21212</td>\n",
       "      <td>6.78915</td>\n",
       "      <td>113914</td>\n",
       "      <td>4593</td>\n",
       "      <td>31.0</td>\n",
       "      <td>1.0</td>\n",
       "    </tr>\n",
       "    <tr>\n",
       "      <th>3</th>\n",
       "      <td>District 4</td>\n",
       "      <td>40545</td>\n",
       "      <td>Oberkassel</td>\n",
       "      <td>51.22958</td>\n",
       "      <td>6.75545</td>\n",
       "      <td>40666</td>\n",
       "      <td>3210</td>\n",
       "      <td>13.0</td>\n",
       "      <td>NaN</td>\n",
       "    </tr>\n",
       "    <tr>\n",
       "      <th>4</th>\n",
       "      <td>District 5</td>\n",
       "      <td>40474</td>\n",
       "      <td>Stockum</td>\n",
       "      <td>51.26922</td>\n",
       "      <td>6.74076</td>\n",
       "      <td>32841</td>\n",
       "      <td>644</td>\n",
       "      <td>2.0</td>\n",
       "      <td>NaN</td>\n",
       "    </tr>\n",
       "  </tbody>\n",
       "</table>\n",
       "</div>"
      ],
      "text/plain": [
       "      Borough  Postcode   Neighbourhood  Latitude  Longitude  Population  \\\n",
       "0  District 1     40219        Altstadt  51.22591    6.77357       78822   \n",
       "1  District 2     40233    Flingern Süd  51.22101    6.81006       58712   \n",
       "2  District 3     40215  Friedrichstadt  51.21212    6.78915      113914   \n",
       "3  District 4     40545      Oberkassel  51.22958    6.75545       40666   \n",
       "4  District 5     40474         Stockum  51.26922    6.74076       32841   \n",
       "\n",
       "   Population Density  Number of restaurants  Number of Japanese restaurants  \n",
       "0                6975                   17.0                             1.0  \n",
       "1                8121                   27.0                             NaN  \n",
       "2                4593                   31.0                             1.0  \n",
       "3                3210                   13.0                             NaN  \n",
       "4                 644                    2.0                             NaN  "
      ]
     },
     "execution_count": 13,
     "metadata": {},
     "output_type": "execute_result"
    }
   ],
   "source": [
    "df.head()"
   ]
  },
  {
   "cell_type": "code",
   "execution_count": 14,
   "metadata": {},
   "outputs": [
    {
     "data": {
      "text/html": [
       "<div>\n",
       "<style scoped>\n",
       "    .dataframe tbody tr th:only-of-type {\n",
       "        vertical-align: middle;\n",
       "    }\n",
       "\n",
       "    .dataframe tbody tr th {\n",
       "        vertical-align: top;\n",
       "    }\n",
       "\n",
       "    .dataframe thead th {\n",
       "        text-align: right;\n",
       "    }\n",
       "</style>\n",
       "<table border=\"1\" class=\"dataframe\">\n",
       "  <thead>\n",
       "    <tr style=\"text-align: right;\">\n",
       "      <th></th>\n",
       "      <th>Postcode</th>\n",
       "      <th>Latitude</th>\n",
       "      <th>Longitude</th>\n",
       "      <th>Population</th>\n",
       "      <th>Population Density</th>\n",
       "      <th>Number of restaurants</th>\n",
       "      <th>Number of Japanese restaurants</th>\n",
       "    </tr>\n",
       "  </thead>\n",
       "  <tbody>\n",
       "    <tr>\n",
       "      <th>count</th>\n",
       "      <td>10.000000</td>\n",
       "      <td>10.000000</td>\n",
       "      <td>10.000000</td>\n",
       "      <td>10.000000</td>\n",
       "      <td>10.000000</td>\n",
       "      <td>9.000000</td>\n",
       "      <td>2.0</td>\n",
       "    </tr>\n",
       "    <tr>\n",
       "      <th>mean</th>\n",
       "      <td>40419.800000</td>\n",
       "      <td>51.221641</td>\n",
       "      <td>6.804016</td>\n",
       "      <td>60321.000000</td>\n",
       "      <td>3805.500000</td>\n",
       "      <td>12.777778</td>\n",
       "      <td>1.0</td>\n",
       "    </tr>\n",
       "    <tr>\n",
       "      <th>std</th>\n",
       "      <td>174.983047</td>\n",
       "      <td>0.038327</td>\n",
       "      <td>0.047153</td>\n",
       "      <td>27458.853844</td>\n",
       "      <td>2320.064523</td>\n",
       "      <td>11.497584</td>\n",
       "      <td>0.0</td>\n",
       "    </tr>\n",
       "    <tr>\n",
       "      <th>min</th>\n",
       "      <td>40215.000000</td>\n",
       "      <td>51.143590</td>\n",
       "      <td>6.740760</td>\n",
       "      <td>24351.000000</td>\n",
       "      <td>644.000000</td>\n",
       "      <td>1.000000</td>\n",
       "      <td>1.0</td>\n",
       "    </tr>\n",
       "    <tr>\n",
       "      <th>25%</th>\n",
       "      <td>40231.500000</td>\n",
       "      <td>51.213465</td>\n",
       "      <td>6.777465</td>\n",
       "      <td>41730.000000</td>\n",
       "      <td>2536.750000</td>\n",
       "      <td>2.000000</td>\n",
       "      <td>1.0</td>\n",
       "    </tr>\n",
       "    <tr>\n",
       "      <th>50%</th>\n",
       "      <td>40473.000000</td>\n",
       "      <td>51.220640</td>\n",
       "      <td>6.800895</td>\n",
       "      <td>58450.000000</td>\n",
       "      <td>3145.000000</td>\n",
       "      <td>13.000000</td>\n",
       "      <td>1.0</td>\n",
       "    </tr>\n",
       "    <tr>\n",
       "      <th>75%</th>\n",
       "      <td>40578.000000</td>\n",
       "      <td>51.228662</td>\n",
       "      <td>6.809485</td>\n",
       "      <td>74269.250000</td>\n",
       "      <td>4591.250000</td>\n",
       "      <td>19.000000</td>\n",
       "      <td>1.0</td>\n",
       "    </tr>\n",
       "    <tr>\n",
       "      <th>max</th>\n",
       "      <td>40625.000000</td>\n",
       "      <td>51.283870</td>\n",
       "      <td>6.897680</td>\n",
       "      <td>113914.000000</td>\n",
       "      <td>8121.000000</td>\n",
       "      <td>31.000000</td>\n",
       "      <td>1.0</td>\n",
       "    </tr>\n",
       "  </tbody>\n",
       "</table>\n",
       "</div>"
      ],
      "text/plain": [
       "           Postcode   Latitude  Longitude     Population  Population Density  \\\n",
       "count     10.000000  10.000000  10.000000      10.000000           10.000000   \n",
       "mean   40419.800000  51.221641   6.804016   60321.000000         3805.500000   \n",
       "std      174.983047   0.038327   0.047153   27458.853844         2320.064523   \n",
       "min    40215.000000  51.143590   6.740760   24351.000000          644.000000   \n",
       "25%    40231.500000  51.213465   6.777465   41730.000000         2536.750000   \n",
       "50%    40473.000000  51.220640   6.800895   58450.000000         3145.000000   \n",
       "75%    40578.000000  51.228662   6.809485   74269.250000         4591.250000   \n",
       "max    40625.000000  51.283870   6.897680  113914.000000         8121.000000   \n",
       "\n",
       "       Number of restaurants  Number of Japanese restaurants  \n",
       "count               9.000000                             2.0  \n",
       "mean               12.777778                             1.0  \n",
       "std                11.497584                             0.0  \n",
       "min                 1.000000                             1.0  \n",
       "25%                 2.000000                             1.0  \n",
       "50%                13.000000                             1.0  \n",
       "75%                19.000000                             1.0  \n",
       "max                31.000000                             1.0  "
      ]
     },
     "execution_count": 14,
     "metadata": {},
     "output_type": "execute_result"
    }
   ],
   "source": [
    "df.describe()"
   ]
  },
  {
   "cell_type": "code",
   "execution_count": 15,
   "metadata": {},
   "outputs": [
    {
     "data": {
      "text/html": [
       "<div style=\"width:100%;\"><div style=\"position:relative;width:100%;height:0;padding-bottom:60%;\"><iframe src=\"about:blank\" style=\"position:absolute;width:100%;height:100%;left:0;top:0;border:none !important;\" data-html=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 onload=\"this.contentDocument.open();this.contentDocument.write(atob(this.getAttribute('data-html')));this.contentDocument.close();\" allowfullscreen webkitallowfullscreen mozallowfullscreen></iframe></div></div>"
      ],
      "text/plain": [
       "<folium.folium.Map at 0x7f3b2153fd30>"
      ]
     },
     "execution_count": 15,
     "metadata": {},
     "output_type": "execute_result"
    }
   ],
   "source": [
    "# create map of Düsseldorf using latitude and longitude values\n",
    "map_duesseldorf = folium.Map(location=[latitude, longitude], zoom_start=10)\n",
    "\n",
    "# add markers to map\n",
    "for lat, lng, borough in zip(df['Latitude'], df['Longitude'], df['Borough']):\n",
    "    label = '{}'.format(borough)\n",
    "    label = folium.Popup(label, parse_html=True)\n",
    "    folium.CircleMarker(\n",
    "        [lat, lng],\n",
    "        radius=5,\n",
    "        popup=label,\n",
    "        color='blue',\n",
    "        fill=True,\n",
    "        fill_color='#3186cc',\n",
    "        fill_opacity=0.7,\n",
    "        parse_html=False).add_to(map_duesseldorf)  \n",
    "    \n",
    "map_duesseldorf"
   ]
  },
  {
   "cell_type": "markdown",
   "metadata": {},
   "source": [
    "For visualization of certain data barcharts are utilised starting with population by district."
   ]
  },
  {
   "cell_type": "code",
   "execution_count": 16,
   "metadata": {},
   "outputs": [
    {
     "data": {
      "text/plain": [
       "<Figure size 1500x900 with 1 Axes>"
      ]
     },
     "metadata": {},
     "output_type": "display_data"
    }
   ],
   "source": [
    "import matplotlib.pyplot as plt\n",
    "#plot data\n",
    "df[['Borough', 'Population']].plot(kind='barh', figsize=(15, 9), legend = None)\n",
    "\n",
    "plt.xlabel('Number of inhabitants') # add to x-label to the plot\n",
    "plt.ylabel('Borough') # add y-label to the plot\n",
    "plt.title('Population in Düsseldorf (2015)') # add title to the plot\n",
    "plt.yticks (np.arange(11), df['Borough'])\n",
    "plt.show()"
   ]
  },
  {
   "cell_type": "markdown",
   "metadata": {},
   "source": [
    "Visualizing the population density by district."
   ]
  },
  {
   "cell_type": "code",
   "execution_count": 17,
   "metadata": {},
   "outputs": [
    {
     "data": {
      "image/png": "[encoded data removed]",
      "text/plain": [
       "<Figure size 1080x648 with 1 Axes>"
      ]
     },
     "metadata": {
      "needs_background": "light"
     },
     "output_type": "display_data"
    }
   ],
   "source": [
    "df[['Borough', 'Population Density']].plot(kind='barh', figsize=(15, 9), legend = None, color='green')\n",
    "\n",
    "plt.xlabel('Population Density') # add to x-label to the plot\n",
    "plt.ylabel('Borough') # add y-label to the plot\n",
    "plt.title('Population density in Düsseldorf (2015)') # add title to the plot\n",
    "plt.yticks (np.arange(11), df['Borough'])\n",
    "plt.show()"
   ]
  },
  {
   "cell_type": "markdown",
   "metadata": {},
   "source": [
    "Barchart of the number of restaurants and Japanese restaurants in particular."
   ]
  },
  {
   "cell_type": "code",
   "execution_count": 18,
   "metadata": {},
   "outputs": [
    {
     "data": {
      "image/png": "[encoded data removed]",
      "text/plain": [
       "<Figure size 1080x648 with 1 Axes>"
      ]
     },
     "metadata": {
      "needs_background": "light"
     },
     "output_type": "display_data"
    }
   ],
   "source": [
    "df[['Number of restaurants', 'Number of Japanese restaurants']].plot(kind='barh', figsize=(15, 9), width = 0.8)\n",
    "\n",
    "#plt.xlabel('Borough') # add to x-label to the plot\n",
    "plt.ylabel('Borough') # add y-label to the plot\n",
    "plt.title('Number of restaurants') # add title to the plot\n",
    "plt.yticks (np.arange(11), df['Borough'])\n",
    "plt.show()"
   ]
  },
  {
   "cell_type": "markdown",
   "metadata": {},
   "source": [
    "Calculating and visualizing the (Japanese) restaurant density per 1000 people per district."
   ]
  },
  {
   "cell_type": "code",
   "execution_count": 19,
   "metadata": {},
   "outputs": [
    {
     "data": {
      "text/html": [
       "<div>\n",
       "<style scoped>\n",
       "    .dataframe tbody tr th:only-of-type {\n",
       "        vertical-align: middle;\n",
       "    }\n",
       "\n",
       "    .dataframe tbody tr th {\n",
       "        vertical-align: top;\n",
       "    }\n",
       "\n",
       "    .dataframe thead th {\n",
       "        text-align: right;\n",
       "    }\n",
       "</style>\n",
       "<table border=\"1\" class=\"dataframe\">\n",
       "  <thead>\n",
       "    <tr style=\"text-align: right;\">\n",
       "      <th></th>\n",
       "      <th>Borough</th>\n",
       "      <th>Number of restaurants per 1000 people</th>\n",
       "      <th>Number of Japanese restaurants per 1000 people</th>\n",
       "    </tr>\n",
       "  </thead>\n",
       "  <tbody>\n",
       "    <tr>\n",
       "      <th>0</th>\n",
       "      <td>District 1</td>\n",
       "      <td>0.215676</td>\n",
       "      <td>0.012687</td>\n",
       "    </tr>\n",
       "    <tr>\n",
       "      <th>1</th>\n",
       "      <td>District 2</td>\n",
       "      <td>0.459872</td>\n",
       "      <td>NaN</td>\n",
       "    </tr>\n",
       "    <tr>\n",
       "      <th>2</th>\n",
       "      <td>District 3</td>\n",
       "      <td>0.272135</td>\n",
       "      <td>0.008779</td>\n",
       "    </tr>\n",
       "    <tr>\n",
       "      <th>3</th>\n",
       "      <td>District 4</td>\n",
       "      <td>0.319677</td>\n",
       "      <td>NaN</td>\n",
       "    </tr>\n",
       "    <tr>\n",
       "      <th>4</th>\n",
       "      <td>District 5</td>\n",
       "      <td>0.060899</td>\n",
       "      <td>NaN</td>\n",
       "    </tr>\n",
       "    <tr>\n",
       "      <th>5</th>\n",
       "      <td>District 6</td>\n",
       "      <td>0.049496</td>\n",
       "      <td>NaN</td>\n",
       "    </tr>\n",
       "    <tr>\n",
       "      <th>6</th>\n",
       "      <td>District 7</td>\n",
       "      <td>0.022261</td>\n",
       "      <td>NaN</td>\n",
       "    </tr>\n",
       "    <tr>\n",
       "      <th>7</th>\n",
       "      <td>District 8</td>\n",
       "      <td>0.326528</td>\n",
       "      <td>NaN</td>\n",
       "    </tr>\n",
       "    <tr>\n",
       "      <th>8</th>\n",
       "      <td>District 9</td>\n",
       "      <td>0.022177</td>\n",
       "      <td>NaN</td>\n",
       "    </tr>\n",
       "    <tr>\n",
       "      <th>9</th>\n",
       "      <td>District 10</td>\n",
       "      <td>NaN</td>\n",
       "      <td>NaN</td>\n",
       "    </tr>\n",
       "  </tbody>\n",
       "</table>\n",
       "</div>"
      ],
      "text/plain": [
       "       Borough  Number of restaurants per 1000 people  \\\n",
       "0   District 1                               0.215676   \n",
       "1   District 2                               0.459872   \n",
       "2   District 3                               0.272135   \n",
       "3   District 4                               0.319677   \n",
       "4   District 5                               0.060899   \n",
       "5   District 6                               0.049496   \n",
       "6   District 7                               0.022261   \n",
       "7   District 8                               0.326528   \n",
       "8   District 9                               0.022177   \n",
       "9  District 10                                    NaN   \n",
       "\n",
       "   Number of Japanese restaurants per 1000 people  \n",
       "0                                        0.012687  \n",
       "1                                             NaN  \n",
       "2                                        0.008779  \n",
       "3                                             NaN  \n",
       "4                                             NaN  \n",
       "5                                             NaN  \n",
       "6                                             NaN  \n",
       "7                                             NaN  \n",
       "8                                             NaN  \n",
       "9                                             NaN  "
      ]
     },
     "execution_count": 19,
     "metadata": {},
     "output_type": "execute_result"
    }
   ],
   "source": [
    "df_restperpop = df.drop(['Postcode','Neighbourhood','Latitude','Longitude','Population Density'],axis=1)\n",
    "df_restperpop['Number of restaurants per 1000 people']=df_restperpop['Number of restaurants']/(df_restperpop['Population']/1000)\n",
    "df_restperpop['Number of Japanese restaurants per 1000 people']=df_restperpop['Number of Japanese restaurants']/(df_restperpop['Population']/1000)\n",
    "df_restperpop = df_restperpop.drop(['Population','Number of restaurants','Number of Japanese restaurants'], axis=1)\n",
    "df_restperpop.head(11)"
   ]
  },
  {
   "cell_type": "code",
   "execution_count": 20,
   "metadata": {},
   "outputs": [
    {
     "data": {
      "image/png": "[encoded data removed]",
      "text/plain": [
       "<Figure size 1080x648 with 1 Axes>"
      ]
     },
     "metadata": {
      "needs_background": "light"
     },
     "output_type": "display_data"
    }
   ],
   "source": [
    "df_restperpop[['Number of restaurants per 1000 people', 'Number of Japanese restaurants per 1000 people']].plot(kind='barh', figsize=(15, 9), width = 0.8)\n",
    "\n",
    "#plt.xlabel('Borough') # add to x-label to the plot\n",
    "plt.ylabel('Borough') # add y-label to the plot\n",
    "plt.title('Number of restaurants per 1000 people') # add title to the plot\n",
    "plt.yticks (np.arange(11), df['Borough'])\n",
    "plt.show()"
   ]
  },
  {
   "cell_type": "markdown",
   "metadata": {},
   "source": [
    "## 4. Results and discussion"
   ]
  },
  {
   "cell_type": "markdown",
   "metadata": {},
   "source": [
    "During the analysis, three bar charts were created that show a comparison between the number of restaurants (including Japanese restaurants) and  the population density in each of the 10 districts of Düsseldorf. \n",
    "\n",
    "Let´s take a deeper look at the number of restaurants first.\n",
    "According to the barchart most restaurants (31) are in district 3 followed by district 2 (27). The following three districts 8, 1 and 4 are very close together. The remaining districts show very low numbers in restaurants. There are no restaurants in district 10. Interesting is, that there are only 2 Japanese restaurants in total which are in district 1 and 3.\n",
    "\n",
    "The population density shows how many inhabitants per square-kilometer in each district live. It shows peaks in district 2 and 1 with circa 8000 and 7000 people per qkm. Most other districts show figures between 2800 and 4500. Only district 7 and 5 are below 2000 and 1000.\n",
    "\n",
    "Key in this analysis is the relation of population density and number of restaurants, which results finally in the new KPI number of restaurants per 1000 people. The last chart reveals that the lowest figures are in district 10, 9, 7, 6 and 5. This means that in these districts there is probably the lowest competition rate. In addition in these districts are no Japanese restaurants, so that another Japanese restaurant can broaden the variety of cuisine available. In all other districts the number of restaurants per 1000 people is much higher and therefore the competition.\n",
    "\n",
    "The data analysis has some weaknesses that need to be considered here. First, the analysis for an optimal location of a restaurant needs more detailed geolocal information especially data about certain city areas and streets to be more precise. Additionally a lot more information can be added in this analysis in order to enhance the results and make a better recommendation. These coulde be information about the income situation, restaurant expenditures and average age of the inhabitants.\n",
    "One mistake is very obvious, Foursquare doesn't represent the full picture, since many venues are not on the list. This can be solved by using other data sources such as Google maps."
   ]
  },
  {
   "cell_type": "markdown",
   "metadata": {},
   "source": [
    "## 5 Conclusion"
   ]
  },
  {
   "cell_type": "markdown",
   "metadata": {},
   "source": [
    "To conclude, the data analysis was performed to identify the most optimal borough for the placement of a Japanese restaurant in the city of Düsseldorf. During the analysis, several important statistical features of the boroughs were explored and visualized. Furthermore, the KPI numbers of restaurants per 1000 people helped to find boroughs with low competition level. Finally, district 10, 9, 7, 6 and 5 were chosen in that priority as the most attractive options for the further analysis."
   ]
  },
  {
   "cell_type": "code",
   "execution_count": null,
   "metadata": {},
   "outputs": [],
   "source": []
  }
 ],
 "metadata": {
  "kernelspec": {
   "display_name": "Python 3.6",
   "language": "python",
   "name": "python3"
  },
  "language_info": {
   "codemirror_mode": {
    "name": "ipython",
    "version": 3
   },
   "file_extension": ".py",
   "mimetype": "text/x-python",
   "name": "python",
   "nbconvert_exporter": "python",
   "pygments_lexer": "ipython3",
   "version": "3.6.9"
  }
 },
 "nbformat": 4,
 "nbformat_minor": 1
}
